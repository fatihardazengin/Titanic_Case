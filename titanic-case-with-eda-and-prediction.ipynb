{
 "cells": [
  {
   "cell_type": "code",
   "execution_count": 1,
   "id": "06cc97c0",
   "metadata": {
    "_cell_guid": "b1076dfc-b9ad-4769-8c92-a6c4dae69d19",
    "_uuid": "8f2839f25d086af736a60e9eeb907d3b93b6e0e5",
    "execution": {
     "iopub.execute_input": "2024-05-24T15:56:44.047697Z",
     "iopub.status.busy": "2024-05-24T15:56:44.047123Z",
     "iopub.status.idle": "2024-05-24T15:56:45.117692Z",
     "shell.execute_reply": "2024-05-24T15:56:45.116660Z"
    },
    "papermill": {
     "duration": 1.090906,
     "end_time": "2024-05-24T15:56:45.120560",
     "exception": false,
     "start_time": "2024-05-24T15:56:44.029654",
     "status": "completed"
    },
    "tags": []
   },
   "outputs": [
    {
     "name": "stdout",
     "output_type": "stream",
     "text": [
      "/kaggle/input/titanic/train.csv\n",
      "/kaggle/input/titanic/test.csv\n",
      "/kaggle/input/titanic/gender_submission.csv\n"
     ]
    }
   ],
   "source": [
    "# This Python 3 environment comes with many helpful analytics libraries installed\n",
    "# It is defined by the kaggle/python Docker image: https://github.com/kaggle/docker-python\n",
    "# For example, here's several helpful packages to load\n",
    "import pandas as pd\n",
    "\n",
    "# Input data files are available in the read-only \"../input/\" directory\n",
    "# For example, running this (by clicking run or pressing Shift+Enter) will list all files under the input directory\n",
    "\n",
    "import os\n",
    "for dirname, _, filenames in os.walk('/kaggle/input'):\n",
    "    for filename in filenames:\n",
    "        print(os.path.join(dirname, filename))\n",
    "\n",
    "# You can write up to 20GB to the current directory (/kaggle/working/) that gets preserved as output when you create a version using \"Save & Run All\" \n",
    "# You can also write temporary files to /kaggle/temp/, but they won't be saved outside of the current session\n",
    "\n",
    "import warnings\n",
    "\n",
    "# Ignore all warnings\n",
    "warnings.filterwarnings('ignore')\n",
    "\n",
    "# Now include your code for data processing, model training, etc."
   ]
  },
  {
   "cell_type": "code",
   "execution_count": 2,
   "id": "0b04243d",
   "metadata": {
    "execution": {
     "iopub.execute_input": "2024-05-24T15:56:45.153940Z",
     "iopub.status.busy": "2024-05-24T15:56:45.152433Z",
     "iopub.status.idle": "2024-05-24T15:56:45.216702Z",
     "shell.execute_reply": "2024-05-24T15:56:45.215064Z"
    },
    "papermill": {
     "duration": 0.084208,
     "end_time": "2024-05-24T15:56:45.219314",
     "exception": false,
     "start_time": "2024-05-24T15:56:45.135106",
     "status": "completed"
    },
    "tags": []
   },
   "outputs": [
    {
     "data": {
      "text/html": [
       "<div>\n",
       "<style scoped>\n",
       "    .dataframe tbody tr th:only-of-type {\n",
       "        vertical-align: middle;\n",
       "    }\n",
       "\n",
       "    .dataframe tbody tr th {\n",
       "        vertical-align: top;\n",
       "    }\n",
       "\n",
       "    .dataframe thead th {\n",
       "        text-align: right;\n",
       "    }\n",
       "</style>\n",
       "<table border=\"1\" class=\"dataframe\">\n",
       "  <thead>\n",
       "    <tr style=\"text-align: right;\">\n",
       "      <th></th>\n",
       "      <th>PassengerId</th>\n",
       "      <th>Survived</th>\n",
       "      <th>Pclass</th>\n",
       "      <th>Name</th>\n",
       "      <th>Sex</th>\n",
       "      <th>Age</th>\n",
       "      <th>SibSp</th>\n",
       "      <th>Parch</th>\n",
       "      <th>Ticket</th>\n",
       "      <th>Fare</th>\n",
       "      <th>Cabin</th>\n",
       "      <th>Embarked</th>\n",
       "    </tr>\n",
       "  </thead>\n",
       "  <tbody>\n",
       "    <tr>\n",
       "      <th>0</th>\n",
       "      <td>1</td>\n",
       "      <td>0</td>\n",
       "      <td>3</td>\n",
       "      <td>Braund, Mr. Owen Harris</td>\n",
       "      <td>male</td>\n",
       "      <td>22.0</td>\n",
       "      <td>1</td>\n",
       "      <td>0</td>\n",
       "      <td>A/5 21171</td>\n",
       "      <td>7.2500</td>\n",
       "      <td>NaN</td>\n",
       "      <td>S</td>\n",
       "    </tr>\n",
       "    <tr>\n",
       "      <th>1</th>\n",
       "      <td>2</td>\n",
       "      <td>1</td>\n",
       "      <td>1</td>\n",
       "      <td>Cumings, Mrs. John Bradley (Florence Briggs Th...</td>\n",
       "      <td>female</td>\n",
       "      <td>38.0</td>\n",
       "      <td>1</td>\n",
       "      <td>0</td>\n",
       "      <td>PC 17599</td>\n",
       "      <td>71.2833</td>\n",
       "      <td>C85</td>\n",
       "      <td>C</td>\n",
       "    </tr>\n",
       "    <tr>\n",
       "      <th>2</th>\n",
       "      <td>3</td>\n",
       "      <td>1</td>\n",
       "      <td>3</td>\n",
       "      <td>Heikkinen, Miss. Laina</td>\n",
       "      <td>female</td>\n",
       "      <td>26.0</td>\n",
       "      <td>0</td>\n",
       "      <td>0</td>\n",
       "      <td>STON/O2. 3101282</td>\n",
       "      <td>7.9250</td>\n",
       "      <td>NaN</td>\n",
       "      <td>S</td>\n",
       "    </tr>\n",
       "    <tr>\n",
       "      <th>3</th>\n",
       "      <td>4</td>\n",
       "      <td>1</td>\n",
       "      <td>1</td>\n",
       "      <td>Futrelle, Mrs. Jacques Heath (Lily May Peel)</td>\n",
       "      <td>female</td>\n",
       "      <td>35.0</td>\n",
       "      <td>1</td>\n",
       "      <td>0</td>\n",
       "      <td>113803</td>\n",
       "      <td>53.1000</td>\n",
       "      <td>C123</td>\n",
       "      <td>S</td>\n",
       "    </tr>\n",
       "    <tr>\n",
       "      <th>4</th>\n",
       "      <td>5</td>\n",
       "      <td>0</td>\n",
       "      <td>3</td>\n",
       "      <td>Allen, Mr. William Henry</td>\n",
       "      <td>male</td>\n",
       "      <td>35.0</td>\n",
       "      <td>0</td>\n",
       "      <td>0</td>\n",
       "      <td>373450</td>\n",
       "      <td>8.0500</td>\n",
       "      <td>NaN</td>\n",
       "      <td>S</td>\n",
       "    </tr>\n",
       "  </tbody>\n",
       "</table>\n",
       "</div>"
      ],
      "text/plain": [
       "   PassengerId  Survived  Pclass  \\\n",
       "0            1         0       3   \n",
       "1            2         1       1   \n",
       "2            3         1       3   \n",
       "3            4         1       1   \n",
       "4            5         0       3   \n",
       "\n",
       "                                                Name     Sex   Age  SibSp  \\\n",
       "0                            Braund, Mr. Owen Harris    male  22.0      1   \n",
       "1  Cumings, Mrs. John Bradley (Florence Briggs Th...  female  38.0      1   \n",
       "2                             Heikkinen, Miss. Laina  female  26.0      0   \n",
       "3       Futrelle, Mrs. Jacques Heath (Lily May Peel)  female  35.0      1   \n",
       "4                           Allen, Mr. William Henry    male  35.0      0   \n",
       "\n",
       "   Parch            Ticket     Fare Cabin Embarked  \n",
       "0      0         A/5 21171   7.2500   NaN        S  \n",
       "1      0          PC 17599  71.2833   C85        C  \n",
       "2      0  STON/O2. 3101282   7.9250   NaN        S  \n",
       "3      0            113803  53.1000  C123        S  \n",
       "4      0            373450   8.0500   NaN        S  "
      ]
     },
     "execution_count": 2,
     "metadata": {},
     "output_type": "execute_result"
    }
   ],
   "source": [
    "# Load data\n",
    "train_df = pd.read_csv('/kaggle/input/titanic/train.csv')\n",
    "test_df = pd.read_csv('/kaggle/input/titanic/test.csv')\n",
    "\n",
    "#First 5 rows of the data\n",
    "\n",
    "train_df.head()\n"
   ]
  },
  {
   "cell_type": "code",
   "execution_count": 3,
   "id": "e377ed3a",
   "metadata": {
    "execution": {
     "iopub.execute_input": "2024-05-24T15:56:45.252197Z",
     "iopub.status.busy": "2024-05-24T15:56:45.251014Z",
     "iopub.status.idle": "2024-05-24T15:56:45.270232Z",
     "shell.execute_reply": "2024-05-24T15:56:45.268996Z"
    },
    "papermill": {
     "duration": 0.038979,
     "end_time": "2024-05-24T15:56:45.272757",
     "exception": false,
     "start_time": "2024-05-24T15:56:45.233778",
     "status": "completed"
    },
    "tags": []
   },
   "outputs": [
    {
     "data": {
      "text/html": [
       "<div>\n",
       "<style scoped>\n",
       "    .dataframe tbody tr th:only-of-type {\n",
       "        vertical-align: middle;\n",
       "    }\n",
       "\n",
       "    .dataframe tbody tr th {\n",
       "        vertical-align: top;\n",
       "    }\n",
       "\n",
       "    .dataframe thead th {\n",
       "        text-align: right;\n",
       "    }\n",
       "</style>\n",
       "<table border=\"1\" class=\"dataframe\">\n",
       "  <thead>\n",
       "    <tr style=\"text-align: right;\">\n",
       "      <th></th>\n",
       "      <th>PassengerId</th>\n",
       "      <th>Pclass</th>\n",
       "      <th>Name</th>\n",
       "      <th>Sex</th>\n",
       "      <th>Age</th>\n",
       "      <th>SibSp</th>\n",
       "      <th>Parch</th>\n",
       "      <th>Ticket</th>\n",
       "      <th>Fare</th>\n",
       "      <th>Cabin</th>\n",
       "      <th>Embarked</th>\n",
       "    </tr>\n",
       "  </thead>\n",
       "  <tbody>\n",
       "    <tr>\n",
       "      <th>0</th>\n",
       "      <td>892</td>\n",
       "      <td>3</td>\n",
       "      <td>Kelly, Mr. James</td>\n",
       "      <td>male</td>\n",
       "      <td>34.5</td>\n",
       "      <td>0</td>\n",
       "      <td>0</td>\n",
       "      <td>330911</td>\n",
       "      <td>7.8292</td>\n",
       "      <td>NaN</td>\n",
       "      <td>Q</td>\n",
       "    </tr>\n",
       "    <tr>\n",
       "      <th>1</th>\n",
       "      <td>893</td>\n",
       "      <td>3</td>\n",
       "      <td>Wilkes, Mrs. James (Ellen Needs)</td>\n",
       "      <td>female</td>\n",
       "      <td>47.0</td>\n",
       "      <td>1</td>\n",
       "      <td>0</td>\n",
       "      <td>363272</td>\n",
       "      <td>7.0000</td>\n",
       "      <td>NaN</td>\n",
       "      <td>S</td>\n",
       "    </tr>\n",
       "    <tr>\n",
       "      <th>2</th>\n",
       "      <td>894</td>\n",
       "      <td>2</td>\n",
       "      <td>Myles, Mr. Thomas Francis</td>\n",
       "      <td>male</td>\n",
       "      <td>62.0</td>\n",
       "      <td>0</td>\n",
       "      <td>0</td>\n",
       "      <td>240276</td>\n",
       "      <td>9.6875</td>\n",
       "      <td>NaN</td>\n",
       "      <td>Q</td>\n",
       "    </tr>\n",
       "    <tr>\n",
       "      <th>3</th>\n",
       "      <td>895</td>\n",
       "      <td>3</td>\n",
       "      <td>Wirz, Mr. Albert</td>\n",
       "      <td>male</td>\n",
       "      <td>27.0</td>\n",
       "      <td>0</td>\n",
       "      <td>0</td>\n",
       "      <td>315154</td>\n",
       "      <td>8.6625</td>\n",
       "      <td>NaN</td>\n",
       "      <td>S</td>\n",
       "    </tr>\n",
       "    <tr>\n",
       "      <th>4</th>\n",
       "      <td>896</td>\n",
       "      <td>3</td>\n",
       "      <td>Hirvonen, Mrs. Alexander (Helga E Lindqvist)</td>\n",
       "      <td>female</td>\n",
       "      <td>22.0</td>\n",
       "      <td>1</td>\n",
       "      <td>1</td>\n",
       "      <td>3101298</td>\n",
       "      <td>12.2875</td>\n",
       "      <td>NaN</td>\n",
       "      <td>S</td>\n",
       "    </tr>\n",
       "  </tbody>\n",
       "</table>\n",
       "</div>"
      ],
      "text/plain": [
       "   PassengerId  Pclass                                          Name     Sex  \\\n",
       "0          892       3                              Kelly, Mr. James    male   \n",
       "1          893       3              Wilkes, Mrs. James (Ellen Needs)  female   \n",
       "2          894       2                     Myles, Mr. Thomas Francis    male   \n",
       "3          895       3                              Wirz, Mr. Albert    male   \n",
       "4          896       3  Hirvonen, Mrs. Alexander (Helga E Lindqvist)  female   \n",
       "\n",
       "    Age  SibSp  Parch   Ticket     Fare Cabin Embarked  \n",
       "0  34.5      0      0   330911   7.8292   NaN        Q  \n",
       "1  47.0      1      0   363272   7.0000   NaN        S  \n",
       "2  62.0      0      0   240276   9.6875   NaN        Q  \n",
       "3  27.0      0      0   315154   8.6625   NaN        S  \n",
       "4  22.0      1      1  3101298  12.2875   NaN        S  "
      ]
     },
     "execution_count": 3,
     "metadata": {},
     "output_type": "execute_result"
    }
   ],
   "source": [
    "test_df.head()"
   ]
  },
  {
   "cell_type": "markdown",
   "id": "10d0682b",
   "metadata": {
    "papermill": {
     "duration": 0.014586,
     "end_time": "2024-05-24T15:56:45.303638",
     "exception": false,
     "start_time": "2024-05-24T15:56:45.289052",
     "status": "completed"
    },
    "tags": []
   },
   "source": [
    "# General Information of The Datasets"
   ]
  },
  {
   "cell_type": "code",
   "execution_count": 4,
   "id": "f988e643",
   "metadata": {
    "execution": {
     "iopub.execute_input": "2024-05-24T15:56:45.336376Z",
     "iopub.status.busy": "2024-05-24T15:56:45.335888Z",
     "iopub.status.idle": "2024-05-24T15:56:45.374194Z",
     "shell.execute_reply": "2024-05-24T15:56:45.372987Z"
    },
    "papermill": {
     "duration": 0.058284,
     "end_time": "2024-05-24T15:56:45.376976",
     "exception": false,
     "start_time": "2024-05-24T15:56:45.318692",
     "status": "completed"
    },
    "tags": []
   },
   "outputs": [
    {
     "name": "stdout",
     "output_type": "stream",
     "text": [
      "------Train Data Information------\n",
      "<class 'pandas.core.frame.DataFrame'>\n",
      "RangeIndex: 891 entries, 0 to 890\n",
      "Data columns (total 12 columns):\n",
      " #   Column       Non-Null Count  Dtype  \n",
      "---  ------       --------------  -----  \n",
      " 0   PassengerId  891 non-null    int64  \n",
      " 1   Survived     891 non-null    int64  \n",
      " 2   Pclass       891 non-null    int64  \n",
      " 3   Name         891 non-null    object \n",
      " 4   Sex          891 non-null    object \n",
      " 5   Age          714 non-null    float64\n",
      " 6   SibSp        891 non-null    int64  \n",
      " 7   Parch        891 non-null    int64  \n",
      " 8   Ticket       891 non-null    object \n",
      " 9   Fare         891 non-null    float64\n",
      " 10  Cabin        204 non-null    object \n",
      " 11  Embarked     889 non-null    object \n",
      "dtypes: float64(2), int64(5), object(5)\n",
      "memory usage: 83.7+ KB\n",
      "\n",
      "------Test Data Information------\n",
      "<class 'pandas.core.frame.DataFrame'>\n",
      "RangeIndex: 891 entries, 0 to 890\n",
      "Data columns (total 12 columns):\n",
      " #   Column       Non-Null Count  Dtype  \n",
      "---  ------       --------------  -----  \n",
      " 0   PassengerId  891 non-null    int64  \n",
      " 1   Survived     891 non-null    int64  \n",
      " 2   Pclass       891 non-null    int64  \n",
      " 3   Name         891 non-null    object \n",
      " 4   Sex          891 non-null    object \n",
      " 5   Age          714 non-null    float64\n",
      " 6   SibSp        891 non-null    int64  \n",
      " 7   Parch        891 non-null    int64  \n",
      " 8   Ticket       891 non-null    object \n",
      " 9   Fare         891 non-null    float64\n",
      " 10  Cabin        204 non-null    object \n",
      " 11  Embarked     889 non-null    object \n",
      "dtypes: float64(2), int64(5), object(5)\n",
      "memory usage: 83.7+ KB\n"
     ]
    }
   ],
   "source": [
    "\n",
    "print(\"------Train Data Information------\")\n",
    "train_df.info()\n",
    "\n",
    "print(\"\\n------Test Data Information------\")\n",
    "train_df.info()\n"
   ]
  },
  {
   "cell_type": "markdown",
   "id": "e3269817",
   "metadata": {
    "papermill": {
     "duration": 0.014832,
     "end_time": "2024-05-24T15:56:45.407445",
     "exception": false,
     "start_time": "2024-05-24T15:56:45.392613",
     "status": "completed"
    },
    "tags": []
   },
   "source": [
    "Statistical Information"
   ]
  },
  {
   "cell_type": "code",
   "execution_count": 5,
   "id": "5ac30b7e",
   "metadata": {
    "execution": {
     "iopub.execute_input": "2024-05-24T15:56:45.439670Z",
     "iopub.status.busy": "2024-05-24T15:56:45.439275Z",
     "iopub.status.idle": "2024-05-24T15:56:45.479530Z",
     "shell.execute_reply": "2024-05-24T15:56:45.478147Z"
    },
    "papermill": {
     "duration": 0.059627,
     "end_time": "2024-05-24T15:56:45.482062",
     "exception": false,
     "start_time": "2024-05-24T15:56:45.422435",
     "status": "completed"
    },
    "tags": []
   },
   "outputs": [
    {
     "name": "stdout",
     "output_type": "stream",
     "text": [
      "------Train Data Statistical Information------\n"
     ]
    },
    {
     "data": {
      "text/html": [
       "<div>\n",
       "<style scoped>\n",
       "    .dataframe tbody tr th:only-of-type {\n",
       "        vertical-align: middle;\n",
       "    }\n",
       "\n",
       "    .dataframe tbody tr th {\n",
       "        vertical-align: top;\n",
       "    }\n",
       "\n",
       "    .dataframe thead th {\n",
       "        text-align: right;\n",
       "    }\n",
       "</style>\n",
       "<table border=\"1\" class=\"dataframe\">\n",
       "  <thead>\n",
       "    <tr style=\"text-align: right;\">\n",
       "      <th></th>\n",
       "      <th>PassengerId</th>\n",
       "      <th>Survived</th>\n",
       "      <th>Pclass</th>\n",
       "      <th>Age</th>\n",
       "      <th>SibSp</th>\n",
       "      <th>Parch</th>\n",
       "      <th>Fare</th>\n",
       "    </tr>\n",
       "  </thead>\n",
       "  <tbody>\n",
       "    <tr>\n",
       "      <th>count</th>\n",
       "      <td>891.000000</td>\n",
       "      <td>891.000000</td>\n",
       "      <td>891.000000</td>\n",
       "      <td>714.000000</td>\n",
       "      <td>891.000000</td>\n",
       "      <td>891.000000</td>\n",
       "      <td>891.000000</td>\n",
       "    </tr>\n",
       "    <tr>\n",
       "      <th>mean</th>\n",
       "      <td>446.000000</td>\n",
       "      <td>0.383838</td>\n",
       "      <td>2.308642</td>\n",
       "      <td>29.699118</td>\n",
       "      <td>0.523008</td>\n",
       "      <td>0.381594</td>\n",
       "      <td>32.204208</td>\n",
       "    </tr>\n",
       "    <tr>\n",
       "      <th>std</th>\n",
       "      <td>257.353842</td>\n",
       "      <td>0.486592</td>\n",
       "      <td>0.836071</td>\n",
       "      <td>14.526497</td>\n",
       "      <td>1.102743</td>\n",
       "      <td>0.806057</td>\n",
       "      <td>49.693429</td>\n",
       "    </tr>\n",
       "    <tr>\n",
       "      <th>min</th>\n",
       "      <td>1.000000</td>\n",
       "      <td>0.000000</td>\n",
       "      <td>1.000000</td>\n",
       "      <td>0.420000</td>\n",
       "      <td>0.000000</td>\n",
       "      <td>0.000000</td>\n",
       "      <td>0.000000</td>\n",
       "    </tr>\n",
       "    <tr>\n",
       "      <th>25%</th>\n",
       "      <td>223.500000</td>\n",
       "      <td>0.000000</td>\n",
       "      <td>2.000000</td>\n",
       "      <td>20.125000</td>\n",
       "      <td>0.000000</td>\n",
       "      <td>0.000000</td>\n",
       "      <td>7.910400</td>\n",
       "    </tr>\n",
       "    <tr>\n",
       "      <th>50%</th>\n",
       "      <td>446.000000</td>\n",
       "      <td>0.000000</td>\n",
       "      <td>3.000000</td>\n",
       "      <td>28.000000</td>\n",
       "      <td>0.000000</td>\n",
       "      <td>0.000000</td>\n",
       "      <td>14.454200</td>\n",
       "    </tr>\n",
       "    <tr>\n",
       "      <th>75%</th>\n",
       "      <td>668.500000</td>\n",
       "      <td>1.000000</td>\n",
       "      <td>3.000000</td>\n",
       "      <td>38.000000</td>\n",
       "      <td>1.000000</td>\n",
       "      <td>0.000000</td>\n",
       "      <td>31.000000</td>\n",
       "    </tr>\n",
       "    <tr>\n",
       "      <th>max</th>\n",
       "      <td>891.000000</td>\n",
       "      <td>1.000000</td>\n",
       "      <td>3.000000</td>\n",
       "      <td>80.000000</td>\n",
       "      <td>8.000000</td>\n",
       "      <td>6.000000</td>\n",
       "      <td>512.329200</td>\n",
       "    </tr>\n",
       "  </tbody>\n",
       "</table>\n",
       "</div>"
      ],
      "text/plain": [
       "       PassengerId    Survived      Pclass         Age       SibSp  \\\n",
       "count   891.000000  891.000000  891.000000  714.000000  891.000000   \n",
       "mean    446.000000    0.383838    2.308642   29.699118    0.523008   \n",
       "std     257.353842    0.486592    0.836071   14.526497    1.102743   \n",
       "min       1.000000    0.000000    1.000000    0.420000    0.000000   \n",
       "25%     223.500000    0.000000    2.000000   20.125000    0.000000   \n",
       "50%     446.000000    0.000000    3.000000   28.000000    0.000000   \n",
       "75%     668.500000    1.000000    3.000000   38.000000    1.000000   \n",
       "max     891.000000    1.000000    3.000000   80.000000    8.000000   \n",
       "\n",
       "            Parch        Fare  \n",
       "count  891.000000  891.000000  \n",
       "mean     0.381594   32.204208  \n",
       "std      0.806057   49.693429  \n",
       "min      0.000000    0.000000  \n",
       "25%      0.000000    7.910400  \n",
       "50%      0.000000   14.454200  \n",
       "75%      0.000000   31.000000  \n",
       "max      6.000000  512.329200  "
      ]
     },
     "execution_count": 5,
     "metadata": {},
     "output_type": "execute_result"
    }
   ],
   "source": [
    "print(\"------Train Data Statistical Information------\")\n",
    "train_df.describe()"
   ]
  },
  {
   "cell_type": "code",
   "execution_count": 6,
   "id": "dd53b7bf",
   "metadata": {
    "execution": {
     "iopub.execute_input": "2024-05-24T15:56:45.515391Z",
     "iopub.status.busy": "2024-05-24T15:56:45.514984Z",
     "iopub.status.idle": "2024-05-24T15:56:45.549681Z",
     "shell.execute_reply": "2024-05-24T15:56:45.548271Z"
    },
    "papermill": {
     "duration": 0.05462,
     "end_time": "2024-05-24T15:56:45.552270",
     "exception": false,
     "start_time": "2024-05-24T15:56:45.497650",
     "status": "completed"
    },
    "tags": []
   },
   "outputs": [
    {
     "name": "stdout",
     "output_type": "stream",
     "text": [
      "\n",
      "------Test Data Statistical Information------\n"
     ]
    },
    {
     "data": {
      "text/html": [
       "<div>\n",
       "<style scoped>\n",
       "    .dataframe tbody tr th:only-of-type {\n",
       "        vertical-align: middle;\n",
       "    }\n",
       "\n",
       "    .dataframe tbody tr th {\n",
       "        vertical-align: top;\n",
       "    }\n",
       "\n",
       "    .dataframe thead th {\n",
       "        text-align: right;\n",
       "    }\n",
       "</style>\n",
       "<table border=\"1\" class=\"dataframe\">\n",
       "  <thead>\n",
       "    <tr style=\"text-align: right;\">\n",
       "      <th></th>\n",
       "      <th>PassengerId</th>\n",
       "      <th>Survived</th>\n",
       "      <th>Pclass</th>\n",
       "      <th>Age</th>\n",
       "      <th>SibSp</th>\n",
       "      <th>Parch</th>\n",
       "      <th>Fare</th>\n",
       "    </tr>\n",
       "  </thead>\n",
       "  <tbody>\n",
       "    <tr>\n",
       "      <th>count</th>\n",
       "      <td>891.000000</td>\n",
       "      <td>891.000000</td>\n",
       "      <td>891.000000</td>\n",
       "      <td>714.000000</td>\n",
       "      <td>891.000000</td>\n",
       "      <td>891.000000</td>\n",
       "      <td>891.000000</td>\n",
       "    </tr>\n",
       "    <tr>\n",
       "      <th>mean</th>\n",
       "      <td>446.000000</td>\n",
       "      <td>0.383838</td>\n",
       "      <td>2.308642</td>\n",
       "      <td>29.699118</td>\n",
       "      <td>0.523008</td>\n",
       "      <td>0.381594</td>\n",
       "      <td>32.204208</td>\n",
       "    </tr>\n",
       "    <tr>\n",
       "      <th>std</th>\n",
       "      <td>257.353842</td>\n",
       "      <td>0.486592</td>\n",
       "      <td>0.836071</td>\n",
       "      <td>14.526497</td>\n",
       "      <td>1.102743</td>\n",
       "      <td>0.806057</td>\n",
       "      <td>49.693429</td>\n",
       "    </tr>\n",
       "    <tr>\n",
       "      <th>min</th>\n",
       "      <td>1.000000</td>\n",
       "      <td>0.000000</td>\n",
       "      <td>1.000000</td>\n",
       "      <td>0.420000</td>\n",
       "      <td>0.000000</td>\n",
       "      <td>0.000000</td>\n",
       "      <td>0.000000</td>\n",
       "    </tr>\n",
       "    <tr>\n",
       "      <th>25%</th>\n",
       "      <td>223.500000</td>\n",
       "      <td>0.000000</td>\n",
       "      <td>2.000000</td>\n",
       "      <td>20.125000</td>\n",
       "      <td>0.000000</td>\n",
       "      <td>0.000000</td>\n",
       "      <td>7.910400</td>\n",
       "    </tr>\n",
       "    <tr>\n",
       "      <th>50%</th>\n",
       "      <td>446.000000</td>\n",
       "      <td>0.000000</td>\n",
       "      <td>3.000000</td>\n",
       "      <td>28.000000</td>\n",
       "      <td>0.000000</td>\n",
       "      <td>0.000000</td>\n",
       "      <td>14.454200</td>\n",
       "    </tr>\n",
       "    <tr>\n",
       "      <th>75%</th>\n",
       "      <td>668.500000</td>\n",
       "      <td>1.000000</td>\n",
       "      <td>3.000000</td>\n",
       "      <td>38.000000</td>\n",
       "      <td>1.000000</td>\n",
       "      <td>0.000000</td>\n",
       "      <td>31.000000</td>\n",
       "    </tr>\n",
       "    <tr>\n",
       "      <th>max</th>\n",
       "      <td>891.000000</td>\n",
       "      <td>1.000000</td>\n",
       "      <td>3.000000</td>\n",
       "      <td>80.000000</td>\n",
       "      <td>8.000000</td>\n",
       "      <td>6.000000</td>\n",
       "      <td>512.329200</td>\n",
       "    </tr>\n",
       "  </tbody>\n",
       "</table>\n",
       "</div>"
      ],
      "text/plain": [
       "       PassengerId    Survived      Pclass         Age       SibSp  \\\n",
       "count   891.000000  891.000000  891.000000  714.000000  891.000000   \n",
       "mean    446.000000    0.383838    2.308642   29.699118    0.523008   \n",
       "std     257.353842    0.486592    0.836071   14.526497    1.102743   \n",
       "min       1.000000    0.000000    1.000000    0.420000    0.000000   \n",
       "25%     223.500000    0.000000    2.000000   20.125000    0.000000   \n",
       "50%     446.000000    0.000000    3.000000   28.000000    0.000000   \n",
       "75%     668.500000    1.000000    3.000000   38.000000    1.000000   \n",
       "max     891.000000    1.000000    3.000000   80.000000    8.000000   \n",
       "\n",
       "            Parch        Fare  \n",
       "count  891.000000  891.000000  \n",
       "mean     0.381594   32.204208  \n",
       "std      0.806057   49.693429  \n",
       "min      0.000000    0.000000  \n",
       "25%      0.000000    7.910400  \n",
       "50%      0.000000   14.454200  \n",
       "75%      0.000000   31.000000  \n",
       "max      6.000000  512.329200  "
      ]
     },
     "execution_count": 6,
     "metadata": {},
     "output_type": "execute_result"
    }
   ],
   "source": [
    "print(\"\\n------Test Data Statistical Information------\")\n",
    "train_df.describe()"
   ]
  },
  {
   "cell_type": "markdown",
   "id": "6e017640",
   "metadata": {
    "papermill": {
     "duration": 0.015809,
     "end_time": "2024-05-24T15:56:45.584140",
     "exception": false,
     "start_time": "2024-05-24T15:56:45.568331",
     "status": "completed"
    },
    "tags": []
   },
   "source": [
    "# Data Cleaning and Examining Missing Data"
   ]
  },
  {
   "cell_type": "markdown",
   "id": "f432811c",
   "metadata": {
    "papermill": {
     "duration": 0.016147,
     "end_time": "2024-05-24T15:56:45.616795",
     "exception": false,
     "start_time": "2024-05-24T15:56:45.600648",
     "status": "completed"
    },
    "tags": []
   },
   "source": [
    "## Missing Values "
   ]
  },
  {
   "cell_type": "markdown",
   "id": "d72f28d7",
   "metadata": {
    "papermill": {
     "duration": 0.015779,
     "end_time": "2024-05-24T15:56:45.648807",
     "exception": false,
     "start_time": "2024-05-24T15:56:45.633028",
     "status": "completed"
    },
    "tags": []
   },
   "source": [
    "Counts of missing values "
   ]
  },
  {
   "cell_type": "code",
   "execution_count": 7,
   "id": "e2ddac37",
   "metadata": {
    "execution": {
     "iopub.execute_input": "2024-05-24T15:56:45.684294Z",
     "iopub.status.busy": "2024-05-24T15:56:45.682860Z",
     "iopub.status.idle": "2024-05-24T15:56:45.695980Z",
     "shell.execute_reply": "2024-05-24T15:56:45.694692Z"
    },
    "papermill": {
     "duration": 0.033333,
     "end_time": "2024-05-24T15:56:45.698521",
     "exception": false,
     "start_time": "2024-05-24T15:56:45.665188",
     "status": "completed"
    },
    "tags": []
   },
   "outputs": [
    {
     "name": "stdout",
     "output_type": "stream",
     "text": [
      "------Train Data Missing Values------\n",
      "PassengerId      0\n",
      "Survived         0\n",
      "Pclass           0\n",
      "Name             0\n",
      "Sex              0\n",
      "Age            177\n",
      "SibSp            0\n",
      "Parch            0\n",
      "Ticket           0\n",
      "Fare             0\n",
      "Cabin          687\n",
      "Embarked         2\n",
      "dtype: int64\n",
      "\n",
      "------Test Data Missing Values------\n",
      "PassengerId      0\n",
      "Pclass           0\n",
      "Name             0\n",
      "Sex              0\n",
      "Age             86\n",
      "SibSp            0\n",
      "Parch            0\n",
      "Ticket           0\n",
      "Fare             1\n",
      "Cabin          327\n",
      "Embarked         0\n",
      "dtype: int64\n"
     ]
    }
   ],
   "source": [
    "print(\"------Train Data Missing Values------\")\n",
    "print(train_df.isnull().sum())\n",
    "print(\"\\n------Test Data Missing Values------\")\n",
    "print(test_df.isnull().sum())"
   ]
  },
  {
   "cell_type": "markdown",
   "id": "7721b758",
   "metadata": {
    "papermill": {
     "duration": 0.016074,
     "end_time": "2024-05-24T15:56:45.732780",
     "exception": false,
     "start_time": "2024-05-24T15:56:45.716706",
     "status": "completed"
    },
    "tags": []
   },
   "source": [
    "Missing Values as Percentages"
   ]
  },
  {
   "cell_type": "code",
   "execution_count": 8,
   "id": "511c30e4",
   "metadata": {
    "execution": {
     "iopub.execute_input": "2024-05-24T15:56:45.767383Z",
     "iopub.status.busy": "2024-05-24T15:56:45.766675Z",
     "iopub.status.idle": "2024-05-24T15:56:45.779355Z",
     "shell.execute_reply": "2024-05-24T15:56:45.778239Z"
    },
    "papermill": {
     "duration": 0.032975,
     "end_time": "2024-05-24T15:56:45.781760",
     "exception": false,
     "start_time": "2024-05-24T15:56:45.748785",
     "status": "completed"
    },
    "tags": []
   },
   "outputs": [
    {
     "name": "stdout",
     "output_type": "stream",
     "text": [
      "------Train Data Missing Values Percentage------\n",
      "Age         19.865320\n",
      "Cabin       77.104377\n",
      "Embarked     0.224467\n",
      "dtype: float64\n",
      "\n",
      "------Test Data Missing Values Percentage------\n",
      "Age      20.574163\n",
      "Fare      0.239234\n",
      "Cabin    78.229665\n",
      "dtype: float64\n"
     ]
    }
   ],
   "source": [
    "missing_data_train = train_df.isnull().sum() / len(train_df) * 100\n",
    "missing_data_test = test_df.isnull().sum() / len(test_df) * 100\n",
    "\n",
    "print(\"------Train Data Missing Values Percentage------\")\n",
    "print(missing_data_train[missing_data_train > 0])\n",
    "\n",
    "print(\"\\n------Test Data Missing Values Percentage------\")\n",
    "print(missing_data_test[missing_data_test > 0])"
   ]
  },
  {
   "cell_type": "markdown",
   "id": "d89d688b",
   "metadata": {
    "papermill": {
     "duration": 0.015912,
     "end_time": "2024-05-24T15:56:45.813743",
     "exception": false,
     "start_time": "2024-05-24T15:56:45.797831",
     "status": "completed"
    },
    "tags": []
   },
   "source": [
    "### Missing Values Visualization"
   ]
  },
  {
   "cell_type": "code",
   "execution_count": 9,
   "id": "ad1c3aaf",
   "metadata": {
    "execution": {
     "iopub.execute_input": "2024-05-24T15:56:45.849029Z",
     "iopub.status.busy": "2024-05-24T15:56:45.848337Z",
     "iopub.status.idle": "2024-05-24T15:56:48.695262Z",
     "shell.execute_reply": "2024-05-24T15:56:48.693690Z"
    },
    "papermill": {
     "duration": 2.868207,
     "end_time": "2024-05-24T15:56:48.698101",
     "exception": false,
     "start_time": "2024-05-24T15:56:45.829894",
     "status": "completed"
    },
    "tags": []
   },
   "outputs": [
    {
     "data": {
      "image/png": "[encoded data removed]",
      "text/plain": [
       "<Figure size 1000x600 with 1 Axes>"
      ]
     },
     "metadata": {},
     "output_type": "display_data"
    },
    {
     "data": {
      "image/png": "[encoded data removed]",
      "text/plain": [
       "<Figure size 1000x600 with 1 Axes>"
      ]
     },
     "metadata": {},
     "output_type": "display_data"
    }
   ],
   "source": [
    "import seaborn as sns\n",
    "import matplotlib.pyplot as plt\n",
    "\n",
    "plt.figure(figsize=(10, 6))\n",
    "sns.heatmap(train_df.isnull(), cbar=False, cmap=\"viridis\")\n",
    "plt.title('Missing Data Heatmap (Train)')\n",
    "plt.show()\n",
    "\n",
    "plt.figure(figsize=(10, 6))\n",
    "sns.heatmap(test_df.isnull(), cbar=False, cmap=\"viridis\")\n",
    "plt.title('Missing Data Heatmap (Test)')\n",
    "plt.show()"
   ]
  },
  {
   "cell_type": "markdown",
   "id": "7db739d5",
   "metadata": {
    "papermill": {
     "duration": 0.018243,
     "end_time": "2024-05-24T15:56:48.734482",
     "exception": false,
     "start_time": "2024-05-24T15:56:48.716239",
     "status": "completed"
    },
    "tags": []
   },
   "source": [
    "# Data Manipulation and Feature Engineering"
   ]
  },
  {
   "cell_type": "markdown",
   "id": "977a26d1",
   "metadata": {
    "papermill": {
     "duration": 0.019472,
     "end_time": "2024-05-24T15:56:48.772442",
     "exception": false,
     "start_time": "2024-05-24T15:56:48.752970",
     "status": "completed"
    },
    "tags": []
   },
   "source": [
    " Filling the missing values in the Embarked' column with the most common value"
   ]
  },
  {
   "cell_type": "code",
   "execution_count": 10,
   "id": "b83de207",
   "metadata": {
    "execution": {
     "iopub.execute_input": "2024-05-24T15:56:48.810921Z",
     "iopub.status.busy": "2024-05-24T15:56:48.810522Z",
     "iopub.status.idle": "2024-05-24T15:56:48.817899Z",
     "shell.execute_reply": "2024-05-24T15:56:48.816941Z"
    },
    "papermill": {
     "duration": 0.02948,
     "end_time": "2024-05-24T15:56:48.820139",
     "exception": false,
     "start_time": "2024-05-24T15:56:48.790659",
     "status": "completed"
    },
    "tags": []
   },
   "outputs": [],
   "source": [
    "train_df['Embarked'].fillna(train_df['Embarked'].mode()[0], inplace=True)"
   ]
  },
  {
   "cell_type": "markdown",
   "id": "26814b62",
   "metadata": {
    "papermill": {
     "duration": 0.017845,
     "end_time": "2024-05-24T15:56:48.857963",
     "exception": false,
     "start_time": "2024-05-24T15:56:48.840118",
     "status": "completed"
    },
    "tags": []
   },
   "source": [
    "Filling the missing values in the 'Age' column with the average age"
   ]
  },
  {
   "cell_type": "code",
   "execution_count": 11,
   "id": "7a563d1c",
   "metadata": {
    "execution": {
     "iopub.execute_input": "2024-05-24T15:56:48.896621Z",
     "iopub.status.busy": "2024-05-24T15:56:48.896139Z",
     "iopub.status.idle": "2024-05-24T15:56:48.903477Z",
     "shell.execute_reply": "2024-05-24T15:56:48.902411Z"
    },
    "papermill": {
     "duration": 0.029705,
     "end_time": "2024-05-24T15:56:48.905742",
     "exception": false,
     "start_time": "2024-05-24T15:56:48.876037",
     "status": "completed"
    },
    "tags": []
   },
   "outputs": [],
   "source": [
    "train_df['Age'].fillna(train_df['Age'].mean(), inplace=True)\n",
    "test_df['Age'].fillna(test_df['Age'].mean(), inplace=True)"
   ]
  },
  {
   "cell_type": "markdown",
   "id": "f74e0e9d",
   "metadata": {
    "papermill": {
     "duration": 0.123927,
     "end_time": "2024-05-24T15:56:49.049419",
     "exception": false,
     "start_time": "2024-05-24T15:56:48.925492",
     "status": "completed"
    },
    "tags": []
   },
   "source": [
    "Drop this column because the 'cabin' column contains too much missing data"
   ]
  },
  {
   "cell_type": "code",
   "execution_count": 12,
   "id": "8d453cfe",
   "metadata": {
    "execution": {
     "iopub.execute_input": "2024-05-24T15:56:49.090416Z",
     "iopub.status.busy": "2024-05-24T15:56:49.089931Z",
     "iopub.status.idle": "2024-05-24T15:56:49.101273Z",
     "shell.execute_reply": "2024-05-24T15:56:49.100268Z"
    },
    "papermill": {
     "duration": 0.034611,
     "end_time": "2024-05-24T15:56:49.103852",
     "exception": false,
     "start_time": "2024-05-24T15:56:49.069241",
     "status": "completed"
    },
    "tags": []
   },
   "outputs": [],
   "source": [
    "train_df.drop(columns=['Cabin'], inplace=True)\n",
    "test_df.drop(columns=['Cabin'], inplace=True)"
   ]
  },
  {
   "cell_type": "markdown",
   "id": "6631fdd3",
   "metadata": {
    "papermill": {
     "duration": 0.023045,
     "end_time": "2024-05-24T15:56:49.149504",
     "exception": false,
     "start_time": "2024-05-24T15:56:49.126459",
     "status": "completed"
    },
    "tags": []
   },
   "source": [
    "Filling the missing value in the 'Mouse' column with median"
   ]
  },
  {
   "cell_type": "code",
   "execution_count": 13,
   "id": "089211b1",
   "metadata": {
    "execution": {
     "iopub.execute_input": "2024-05-24T15:56:49.208247Z",
     "iopub.status.busy": "2024-05-24T15:56:49.206773Z",
     "iopub.status.idle": "2024-05-24T15:56:49.220000Z",
     "shell.execute_reply": "2024-05-24T15:56:49.218268Z"
    },
    "papermill": {
     "duration": 0.047527,
     "end_time": "2024-05-24T15:56:49.224019",
     "exception": false,
     "start_time": "2024-05-24T15:56:49.176492",
     "status": "completed"
    },
    "tags": []
   },
   "outputs": [],
   "source": [
    "test_df['Fare'].fillna(test_df['Fare'].median(), inplace=True)"
   ]
  },
  {
   "cell_type": "markdown",
   "id": "d1bfc421",
   "metadata": {
    "papermill": {
     "duration": 0.018356,
     "end_time": "2024-05-24T15:56:49.268463",
     "exception": false,
     "start_time": "2024-05-24T15:56:49.250107",
     "status": "completed"
    },
    "tags": []
   },
   "source": [
    "# Data Visualization"
   ]
  },
  {
   "cell_type": "markdown",
   "id": "f8b2cd37",
   "metadata": {
    "papermill": {
     "duration": 0.018072,
     "end_time": "2024-05-24T15:56:49.305430",
     "exception": false,
     "start_time": "2024-05-24T15:56:49.287358",
     "status": "completed"
    },
    "tags": []
   },
   "source": [
    "Distribution of values in the Survived column for train data"
   ]
  },
  {
   "cell_type": "code",
   "execution_count": 14,
   "id": "18786c39",
   "metadata": {
    "execution": {
     "iopub.execute_input": "2024-05-24T15:56:49.344550Z",
     "iopub.status.busy": "2024-05-24T15:56:49.344082Z",
     "iopub.status.idle": "2024-05-24T15:56:49.600592Z",
     "shell.execute_reply": "2024-05-24T15:56:49.598732Z"
    },
    "papermill": {
     "duration": 0.280051,
     "end_time": "2024-05-24T15:56:49.604261",
     "exception": false,
     "start_time": "2024-05-24T15:56:49.324210",
     "status": "completed"
    },
    "tags": []
   },
   "outputs": [
    {
     "data": {
      "image/png": "[encoded data removed]",
      "text/plain": [
       "<Figure size 640x480 with 1 Axes>"
      ]
     },
     "metadata": {},
     "output_type": "display_data"
    }
   ],
   "source": [
    "sns.countplot(data=train_df, x='Survived')\n",
    "plt.title('Survival Count')\n",
    "plt.show()"
   ]
  },
  {
   "cell_type": "markdown",
   "id": "3a19ff31",
   "metadata": {
    "papermill": {
     "duration": 0.019419,
     "end_time": "2024-05-24T15:56:49.643819",
     "exception": false,
     "start_time": "2024-05-24T15:56:49.624400",
     "status": "completed"
    },
    "tags": []
   },
   "source": [
    "Survival rate by gender"
   ]
  },
  {
   "cell_type": "code",
   "execution_count": 15,
   "id": "8c4d4a46",
   "metadata": {
    "execution": {
     "iopub.execute_input": "2024-05-24T15:56:49.684804Z",
     "iopub.status.busy": "2024-05-24T15:56:49.684356Z",
     "iopub.status.idle": "2024-05-24T15:56:49.963150Z",
     "shell.execute_reply": "2024-05-24T15:56:49.961882Z"
    },
    "papermill": {
     "duration": 0.30246,
     "end_time": "2024-05-24T15:56:49.966101",
     "exception": false,
     "start_time": "2024-05-24T15:56:49.663641",
     "status": "completed"
    },
    "tags": []
   },
   "outputs": [
    {
     "data": {
      "image/png": "[encoded data removed]",
      "text/plain": [
       "<Figure size 640x480 with 1 Axes>"
      ]
     },
     "metadata": {},
     "output_type": "display_data"
    }
   ],
   "source": [
    "sns.countplot(data=train_df, x='Survived', hue='Sex')\n",
    "plt.title('Survival Count by Gender')\n",
    "plt.show()"
   ]
  },
  {
   "cell_type": "markdown",
   "id": "a62534cc",
   "metadata": {
    "papermill": {
     "duration": 0.019554,
     "end_time": "2024-05-24T15:56:50.007379",
     "exception": false,
     "start_time": "2024-05-24T15:56:49.987825",
     "status": "completed"
    },
    "tags": []
   },
   "source": [
    "Survival rate by age"
   ]
  },
  {
   "cell_type": "code",
   "execution_count": 16,
   "id": "35ee9bef",
   "metadata": {
    "execution": {
     "iopub.execute_input": "2024-05-24T15:56:50.048110Z",
     "iopub.status.busy": "2024-05-24T15:56:50.047691Z",
     "iopub.status.idle": "2024-05-24T15:56:50.664801Z",
     "shell.execute_reply": "2024-05-24T15:56:50.663245Z"
    },
    "papermill": {
     "duration": 0.641282,
     "end_time": "2024-05-24T15:56:50.668044",
     "exception": false,
     "start_time": "2024-05-24T15:56:50.026762",
     "status": "completed"
    },
    "tags": []
   },
   "outputs": [
    {
     "data": {
      "image/png": "[encoded data removed]",
      "text/plain": [
       "<Figure size 1000x600 with 1 Axes>"
      ]
     },
     "metadata": {},
     "output_type": "display_data"
    }
   ],
   "source": [
    "plt.figure(figsize=(10, 6))\n",
    "sns.histplot(data=train_df, x='Age', hue='Survived', multiple='stack', kde=True)\n",
    "plt.title('Survival Distribution by Age')\n",
    "plt.show()\n"
   ]
  },
  {
   "cell_type": "markdown",
   "id": "56b85cc5",
   "metadata": {
    "papermill": {
     "duration": 0.020087,
     "end_time": "2024-05-24T15:56:50.708362",
     "exception": false,
     "start_time": "2024-05-24T15:56:50.688275",
     "status": "completed"
    },
    "tags": []
   },
   "source": [
    "Survival rate according to Pclass"
   ]
  },
  {
   "cell_type": "code",
   "execution_count": 17,
   "id": "6f4de694",
   "metadata": {
    "execution": {
     "iopub.execute_input": "2024-05-24T15:56:50.750894Z",
     "iopub.status.busy": "2024-05-24T15:56:50.750459Z",
     "iopub.status.idle": "2024-05-24T15:56:51.066638Z",
     "shell.execute_reply": "2024-05-24T15:56:51.065267Z"
    },
    "papermill": {
     "duration": 0.340944,
     "end_time": "2024-05-24T15:56:51.069543",
     "exception": false,
     "start_time": "2024-05-24T15:56:50.728599",
     "status": "completed"
    },
    "tags": []
   },
   "outputs": [
    {
     "data": {
      "image/png": "[encoded data removed]",
      "text/plain": [
       "<Figure size 640x480 with 1 Axes>"
      ]
     },
     "metadata": {},
     "output_type": "display_data"
    }
   ],
   "source": [
    "sns.countplot(data=train_df, x='Survived', hue='Pclass')\n",
    "plt.title('Survival Count by Pclass')\n",
    "plt.show()"
   ]
  },
  {
   "cell_type": "markdown",
   "id": "811867b6",
   "metadata": {
    "papermill": {
     "duration": 0.020977,
     "end_time": "2024-05-24T15:56:51.111730",
     "exception": false,
     "start_time": "2024-05-24T15:56:51.090753",
     "status": "completed"
    },
    "tags": []
   },
   "source": [
    "# Correlation Analysis"
   ]
  },
  {
   "cell_type": "code",
   "execution_count": 18,
   "id": "94c23ed3",
   "metadata": {
    "execution": {
     "iopub.execute_input": "2024-05-24T15:56:51.155346Z",
     "iopub.status.busy": "2024-05-24T15:56:51.154866Z",
     "iopub.status.idle": "2024-05-24T15:56:51.174539Z",
     "shell.execute_reply": "2024-05-24T15:56:51.172815Z"
    },
    "papermill": {
     "duration": 0.044939,
     "end_time": "2024-05-24T15:56:51.177462",
     "exception": false,
     "start_time": "2024-05-24T15:56:51.132523",
     "status": "completed"
    },
    "tags": []
   },
   "outputs": [
    {
     "data": {
      "text/html": [
       "<div>\n",
       "<style scoped>\n",
       "    .dataframe tbody tr th:only-of-type {\n",
       "        vertical-align: middle;\n",
       "    }\n",
       "\n",
       "    .dataframe tbody tr th {\n",
       "        vertical-align: top;\n",
       "    }\n",
       "\n",
       "    .dataframe thead th {\n",
       "        text-align: right;\n",
       "    }\n",
       "</style>\n",
       "<table border=\"1\" class=\"dataframe\">\n",
       "  <thead>\n",
       "    <tr style=\"text-align: right;\">\n",
       "      <th></th>\n",
       "      <th>PassengerId</th>\n",
       "      <th>Survived</th>\n",
       "      <th>Pclass</th>\n",
       "      <th>Name</th>\n",
       "      <th>Sex</th>\n",
       "      <th>Age</th>\n",
       "      <th>SibSp</th>\n",
       "      <th>Parch</th>\n",
       "      <th>Ticket</th>\n",
       "      <th>Fare</th>\n",
       "      <th>Embarked</th>\n",
       "    </tr>\n",
       "  </thead>\n",
       "  <tbody>\n",
       "    <tr>\n",
       "      <th>0</th>\n",
       "      <td>1</td>\n",
       "      <td>0</td>\n",
       "      <td>3</td>\n",
       "      <td>Braund, Mr. Owen Harris</td>\n",
       "      <td>male</td>\n",
       "      <td>22.0</td>\n",
       "      <td>1</td>\n",
       "      <td>0</td>\n",
       "      <td>A/5 21171</td>\n",
       "      <td>7.2500</td>\n",
       "      <td>S</td>\n",
       "    </tr>\n",
       "    <tr>\n",
       "      <th>1</th>\n",
       "      <td>2</td>\n",
       "      <td>1</td>\n",
       "      <td>1</td>\n",
       "      <td>Cumings, Mrs. John Bradley (Florence Briggs Th...</td>\n",
       "      <td>female</td>\n",
       "      <td>38.0</td>\n",
       "      <td>1</td>\n",
       "      <td>0</td>\n",
       "      <td>PC 17599</td>\n",
       "      <td>71.2833</td>\n",
       "      <td>C</td>\n",
       "    </tr>\n",
       "    <tr>\n",
       "      <th>2</th>\n",
       "      <td>3</td>\n",
       "      <td>1</td>\n",
       "      <td>3</td>\n",
       "      <td>Heikkinen, Miss. Laina</td>\n",
       "      <td>female</td>\n",
       "      <td>26.0</td>\n",
       "      <td>0</td>\n",
       "      <td>0</td>\n",
       "      <td>STON/O2. 3101282</td>\n",
       "      <td>7.9250</td>\n",
       "      <td>S</td>\n",
       "    </tr>\n",
       "    <tr>\n",
       "      <th>3</th>\n",
       "      <td>4</td>\n",
       "      <td>1</td>\n",
       "      <td>1</td>\n",
       "      <td>Futrelle, Mrs. Jacques Heath (Lily May Peel)</td>\n",
       "      <td>female</td>\n",
       "      <td>35.0</td>\n",
       "      <td>1</td>\n",
       "      <td>0</td>\n",
       "      <td>113803</td>\n",
       "      <td>53.1000</td>\n",
       "      <td>S</td>\n",
       "    </tr>\n",
       "    <tr>\n",
       "      <th>4</th>\n",
       "      <td>5</td>\n",
       "      <td>0</td>\n",
       "      <td>3</td>\n",
       "      <td>Allen, Mr. William Henry</td>\n",
       "      <td>male</td>\n",
       "      <td>35.0</td>\n",
       "      <td>0</td>\n",
       "      <td>0</td>\n",
       "      <td>373450</td>\n",
       "      <td>8.0500</td>\n",
       "      <td>S</td>\n",
       "    </tr>\n",
       "  </tbody>\n",
       "</table>\n",
       "</div>"
      ],
      "text/plain": [
       "   PassengerId  Survived  Pclass  \\\n",
       "0            1         0       3   \n",
       "1            2         1       1   \n",
       "2            3         1       3   \n",
       "3            4         1       1   \n",
       "4            5         0       3   \n",
       "\n",
       "                                                Name     Sex   Age  SibSp  \\\n",
       "0                            Braund, Mr. Owen Harris    male  22.0      1   \n",
       "1  Cumings, Mrs. John Bradley (Florence Briggs Th...  female  38.0      1   \n",
       "2                             Heikkinen, Miss. Laina  female  26.0      0   \n",
       "3       Futrelle, Mrs. Jacques Heath (Lily May Peel)  female  35.0      1   \n",
       "4                           Allen, Mr. William Henry    male  35.0      0   \n",
       "\n",
       "   Parch            Ticket     Fare Embarked  \n",
       "0      0         A/5 21171   7.2500        S  \n",
       "1      0          PC 17599  71.2833        C  \n",
       "2      0  STON/O2. 3101282   7.9250        S  \n",
       "3      0            113803  53.1000        S  \n",
       "4      0            373450   8.0500        S  "
      ]
     },
     "execution_count": 18,
     "metadata": {},
     "output_type": "execute_result"
    }
   ],
   "source": [
    "train_df.head()"
   ]
  },
  {
   "cell_type": "code",
   "execution_count": 19,
   "id": "96a98043",
   "metadata": {
    "execution": {
     "iopub.execute_input": "2024-05-24T15:56:51.222613Z",
     "iopub.status.busy": "2024-05-24T15:56:51.222123Z",
     "iopub.status.idle": "2024-05-24T15:56:51.240864Z",
     "shell.execute_reply": "2024-05-24T15:56:51.239451Z"
    },
    "papermill": {
     "duration": 0.044513,
     "end_time": "2024-05-24T15:56:51.243630",
     "exception": false,
     "start_time": "2024-05-24T15:56:51.199117",
     "status": "completed"
    },
    "tags": []
   },
   "outputs": [
    {
     "data": {
      "text/html": [
       "<div>\n",
       "<style scoped>\n",
       "    .dataframe tbody tr th:only-of-type {\n",
       "        vertical-align: middle;\n",
       "    }\n",
       "\n",
       "    .dataframe tbody tr th {\n",
       "        vertical-align: top;\n",
       "    }\n",
       "\n",
       "    .dataframe thead th {\n",
       "        text-align: right;\n",
       "    }\n",
       "</style>\n",
       "<table border=\"1\" class=\"dataframe\">\n",
       "  <thead>\n",
       "    <tr style=\"text-align: right;\">\n",
       "      <th></th>\n",
       "      <th>PassengerId</th>\n",
       "      <th>Pclass</th>\n",
       "      <th>Name</th>\n",
       "      <th>Sex</th>\n",
       "      <th>Age</th>\n",
       "      <th>SibSp</th>\n",
       "      <th>Parch</th>\n",
       "      <th>Ticket</th>\n",
       "      <th>Fare</th>\n",
       "      <th>Embarked</th>\n",
       "    </tr>\n",
       "  </thead>\n",
       "  <tbody>\n",
       "    <tr>\n",
       "      <th>0</th>\n",
       "      <td>892</td>\n",
       "      <td>3</td>\n",
       "      <td>Kelly, Mr. James</td>\n",
       "      <td>male</td>\n",
       "      <td>34.5</td>\n",
       "      <td>0</td>\n",
       "      <td>0</td>\n",
       "      <td>330911</td>\n",
       "      <td>7.8292</td>\n",
       "      <td>Q</td>\n",
       "    </tr>\n",
       "    <tr>\n",
       "      <th>1</th>\n",
       "      <td>893</td>\n",
       "      <td>3</td>\n",
       "      <td>Wilkes, Mrs. James (Ellen Needs)</td>\n",
       "      <td>female</td>\n",
       "      <td>47.0</td>\n",
       "      <td>1</td>\n",
       "      <td>0</td>\n",
       "      <td>363272</td>\n",
       "      <td>7.0000</td>\n",
       "      <td>S</td>\n",
       "    </tr>\n",
       "    <tr>\n",
       "      <th>2</th>\n",
       "      <td>894</td>\n",
       "      <td>2</td>\n",
       "      <td>Myles, Mr. Thomas Francis</td>\n",
       "      <td>male</td>\n",
       "      <td>62.0</td>\n",
       "      <td>0</td>\n",
       "      <td>0</td>\n",
       "      <td>240276</td>\n",
       "      <td>9.6875</td>\n",
       "      <td>Q</td>\n",
       "    </tr>\n",
       "    <tr>\n",
       "      <th>3</th>\n",
       "      <td>895</td>\n",
       "      <td>3</td>\n",
       "      <td>Wirz, Mr. Albert</td>\n",
       "      <td>male</td>\n",
       "      <td>27.0</td>\n",
       "      <td>0</td>\n",
       "      <td>0</td>\n",
       "      <td>315154</td>\n",
       "      <td>8.6625</td>\n",
       "      <td>S</td>\n",
       "    </tr>\n",
       "    <tr>\n",
       "      <th>4</th>\n",
       "      <td>896</td>\n",
       "      <td>3</td>\n",
       "      <td>Hirvonen, Mrs. Alexander (Helga E Lindqvist)</td>\n",
       "      <td>female</td>\n",
       "      <td>22.0</td>\n",
       "      <td>1</td>\n",
       "      <td>1</td>\n",
       "      <td>3101298</td>\n",
       "      <td>12.2875</td>\n",
       "      <td>S</td>\n",
       "    </tr>\n",
       "  </tbody>\n",
       "</table>\n",
       "</div>"
      ],
      "text/plain": [
       "   PassengerId  Pclass                                          Name     Sex  \\\n",
       "0          892       3                              Kelly, Mr. James    male   \n",
       "1          893       3              Wilkes, Mrs. James (Ellen Needs)  female   \n",
       "2          894       2                     Myles, Mr. Thomas Francis    male   \n",
       "3          895       3                              Wirz, Mr. Albert    male   \n",
       "4          896       3  Hirvonen, Mrs. Alexander (Helga E Lindqvist)  female   \n",
       "\n",
       "    Age  SibSp  Parch   Ticket     Fare Embarked  \n",
       "0  34.5      0      0   330911   7.8292        Q  \n",
       "1  47.0      1      0   363272   7.0000        S  \n",
       "2  62.0      0      0   240276   9.6875        Q  \n",
       "3  27.0      0      0   315154   8.6625        S  \n",
       "4  22.0      1      1  3101298  12.2875        S  "
      ]
     },
     "execution_count": 19,
     "metadata": {},
     "output_type": "execute_result"
    }
   ],
   "source": [
    "test_df.head()"
   ]
  },
  {
   "cell_type": "markdown",
   "id": "47f8934b",
   "metadata": {
    "papermill": {
     "duration": 0.021171,
     "end_time": "2024-05-24T15:56:51.286631",
     "exception": false,
     "start_time": "2024-05-24T15:56:51.265460",
     "status": "completed"
    },
    "tags": []
   },
   "source": [
    "Convert categorical columns with One-Hot Encoding"
   ]
  },
  {
   "cell_type": "code",
   "execution_count": 20,
   "id": "942fde66",
   "metadata": {
    "execution": {
     "iopub.execute_input": "2024-05-24T15:56:51.333408Z",
     "iopub.status.busy": "2024-05-24T15:56:51.332306Z",
     "iopub.status.idle": "2024-05-24T15:56:51.349870Z",
     "shell.execute_reply": "2024-05-24T15:56:51.348609Z"
    },
    "papermill": {
     "duration": 0.044574,
     "end_time": "2024-05-24T15:56:51.352820",
     "exception": false,
     "start_time": "2024-05-24T15:56:51.308246",
     "status": "completed"
    },
    "tags": []
   },
   "outputs": [],
   "source": [
    "\n",
    "train_df_encoded = pd.get_dummies(train_df.drop([\"Name\", \"Ticket\"],axis=1), columns=['Sex', 'Embarked'])\n",
    "test_df_encoded = pd.get_dummies(test_df.drop([\"Name\", \"Ticket\"] , axis=1), columns=['Sex', 'Embarked'])\n"
   ]
  },
  {
   "cell_type": "code",
   "execution_count": 21,
   "id": "6c8c4160",
   "metadata": {
    "execution": {
     "iopub.execute_input": "2024-05-24T15:56:51.397516Z",
     "iopub.status.busy": "2024-05-24T15:56:51.397080Z",
     "iopub.status.idle": "2024-05-24T15:56:51.415077Z",
     "shell.execute_reply": "2024-05-24T15:56:51.413999Z"
    },
    "papermill": {
     "duration": 0.043305,
     "end_time": "2024-05-24T15:56:51.417483",
     "exception": false,
     "start_time": "2024-05-24T15:56:51.374178",
     "status": "completed"
    },
    "tags": []
   },
   "outputs": [
    {
     "data": {
      "text/html": [
       "<div>\n",
       "<style scoped>\n",
       "    .dataframe tbody tr th:only-of-type {\n",
       "        vertical-align: middle;\n",
       "    }\n",
       "\n",
       "    .dataframe tbody tr th {\n",
       "        vertical-align: top;\n",
       "    }\n",
       "\n",
       "    .dataframe thead th {\n",
       "        text-align: right;\n",
       "    }\n",
       "</style>\n",
       "<table border=\"1\" class=\"dataframe\">\n",
       "  <thead>\n",
       "    <tr style=\"text-align: right;\">\n",
       "      <th></th>\n",
       "      <th>PassengerId</th>\n",
       "      <th>Survived</th>\n",
       "      <th>Pclass</th>\n",
       "      <th>Age</th>\n",
       "      <th>SibSp</th>\n",
       "      <th>Parch</th>\n",
       "      <th>Fare</th>\n",
       "      <th>Sex_female</th>\n",
       "      <th>Sex_male</th>\n",
       "      <th>Embarked_C</th>\n",
       "      <th>Embarked_Q</th>\n",
       "      <th>Embarked_S</th>\n",
       "    </tr>\n",
       "  </thead>\n",
       "  <tbody>\n",
       "    <tr>\n",
       "      <th>0</th>\n",
       "      <td>1</td>\n",
       "      <td>0</td>\n",
       "      <td>3</td>\n",
       "      <td>22.0</td>\n",
       "      <td>1</td>\n",
       "      <td>0</td>\n",
       "      <td>7.2500</td>\n",
       "      <td>False</td>\n",
       "      <td>True</td>\n",
       "      <td>False</td>\n",
       "      <td>False</td>\n",
       "      <td>True</td>\n",
       "    </tr>\n",
       "    <tr>\n",
       "      <th>1</th>\n",
       "      <td>2</td>\n",
       "      <td>1</td>\n",
       "      <td>1</td>\n",
       "      <td>38.0</td>\n",
       "      <td>1</td>\n",
       "      <td>0</td>\n",
       "      <td>71.2833</td>\n",
       "      <td>True</td>\n",
       "      <td>False</td>\n",
       "      <td>True</td>\n",
       "      <td>False</td>\n",
       "      <td>False</td>\n",
       "    </tr>\n",
       "    <tr>\n",
       "      <th>2</th>\n",
       "      <td>3</td>\n",
       "      <td>1</td>\n",
       "      <td>3</td>\n",
       "      <td>26.0</td>\n",
       "      <td>0</td>\n",
       "      <td>0</td>\n",
       "      <td>7.9250</td>\n",
       "      <td>True</td>\n",
       "      <td>False</td>\n",
       "      <td>False</td>\n",
       "      <td>False</td>\n",
       "      <td>True</td>\n",
       "    </tr>\n",
       "    <tr>\n",
       "      <th>3</th>\n",
       "      <td>4</td>\n",
       "      <td>1</td>\n",
       "      <td>1</td>\n",
       "      <td>35.0</td>\n",
       "      <td>1</td>\n",
       "      <td>0</td>\n",
       "      <td>53.1000</td>\n",
       "      <td>True</td>\n",
       "      <td>False</td>\n",
       "      <td>False</td>\n",
       "      <td>False</td>\n",
       "      <td>True</td>\n",
       "    </tr>\n",
       "    <tr>\n",
       "      <th>4</th>\n",
       "      <td>5</td>\n",
       "      <td>0</td>\n",
       "      <td>3</td>\n",
       "      <td>35.0</td>\n",
       "      <td>0</td>\n",
       "      <td>0</td>\n",
       "      <td>8.0500</td>\n",
       "      <td>False</td>\n",
       "      <td>True</td>\n",
       "      <td>False</td>\n",
       "      <td>False</td>\n",
       "      <td>True</td>\n",
       "    </tr>\n",
       "  </tbody>\n",
       "</table>\n",
       "</div>"
      ],
      "text/plain": [
       "   PassengerId  Survived  Pclass   Age  SibSp  Parch     Fare  Sex_female  \\\n",
       "0            1         0       3  22.0      1      0   7.2500       False   \n",
       "1            2         1       1  38.0      1      0  71.2833        True   \n",
       "2            3         1       3  26.0      0      0   7.9250        True   \n",
       "3            4         1       1  35.0      1      0  53.1000        True   \n",
       "4            5         0       3  35.0      0      0   8.0500       False   \n",
       "\n",
       "   Sex_male  Embarked_C  Embarked_Q  Embarked_S  \n",
       "0      True       False       False        True  \n",
       "1     False        True       False       False  \n",
       "2     False       False       False        True  \n",
       "3     False       False       False        True  \n",
       "4      True       False       False        True  "
      ]
     },
     "execution_count": 21,
     "metadata": {},
     "output_type": "execute_result"
    }
   ],
   "source": [
    "train_df_encoded.head()"
   ]
  },
  {
   "cell_type": "code",
   "execution_count": 22,
   "id": "facc8bac",
   "metadata": {
    "execution": {
     "iopub.execute_input": "2024-05-24T15:56:51.462756Z",
     "iopub.status.busy": "2024-05-24T15:56:51.462361Z",
     "iopub.status.idle": "2024-05-24T15:56:52.333650Z",
     "shell.execute_reply": "2024-05-24T15:56:52.332156Z"
    },
    "papermill": {
     "duration": 0.898571,
     "end_time": "2024-05-24T15:56:52.337597",
     "exception": false,
     "start_time": "2024-05-24T15:56:51.439026",
     "status": "completed"
    },
    "tags": []
   },
   "outputs": [
    {
     "data": {
      "image/png": "[encoded data removed]",
      "text/plain": [
       "<Figure size 1000x800 with 2 Axes>"
      ]
     },
     "metadata": {},
     "output_type": "display_data"
    }
   ],
   "source": [
    "corr_matrix = train_df_encoded.corr()\n",
    "\n",
    "plt.figure(figsize=(10, 8))\n",
    "sns.heatmap(corr_matrix, annot=True, cmap='coolwarm', linewidths=0.5)\n",
    "plt.title('Correlation Matrix')\n",
    "plt.show()"
   ]
  },
  {
   "cell_type": "markdown",
   "id": "73c12ee4",
   "metadata": {
    "papermill": {
     "duration": 0.024904,
     "end_time": "2024-05-24T15:56:52.386320",
     "exception": false,
     "start_time": "2024-05-24T15:56:52.361416",
     "status": "completed"
    },
    "tags": []
   },
   "source": [
    "We applied all the transformations we made in the train dataset to the test dataset"
   ]
  },
  {
   "cell_type": "code",
   "execution_count": 23,
   "id": "28533a5d",
   "metadata": {
    "execution": {
     "iopub.execute_input": "2024-05-24T15:56:52.443215Z",
     "iopub.status.busy": "2024-05-24T15:56:52.442559Z",
     "iopub.status.idle": "2024-05-24T15:56:52.454080Z",
     "shell.execute_reply": "2024-05-24T15:56:52.452677Z"
    },
    "papermill": {
     "duration": 0.044489,
     "end_time": "2024-05-24T15:56:52.456783",
     "exception": false,
     "start_time": "2024-05-24T15:56:52.412294",
     "status": "completed"
    },
    "tags": []
   },
   "outputs": [],
   "source": [
    "test_df['Embarked'].fillna(test_df['Embarked'].mode()[0], inplace=True)\n",
    "test_df['Age'].fillna(test_df['Age'].mean(), inplace=True)\n",
    "test_df['Fare'].fillna(test_df['Fare'].median(), inplace=True)"
   ]
  },
  {
   "cell_type": "markdown",
   "id": "cf20cf83",
   "metadata": {
    "papermill": {
     "duration": 0.023762,
     "end_time": "2024-05-24T15:56:52.504530",
     "exception": false,
     "start_time": "2024-05-24T15:56:52.480768",
     "status": "completed"
    },
    "tags": []
   },
   "source": [
    "# Model Training and Evaluation"
   ]
  },
  {
   "cell_type": "markdown",
   "id": "18c3b03b",
   "metadata": {
    "papermill": {
     "duration": 0.024255,
     "end_time": "2024-05-24T15:56:52.553835",
     "exception": false,
     "start_time": "2024-05-24T15:56:52.529580",
     "status": "completed"
    },
    "tags": []
   },
   "source": [
    "## Preparation of Data Sets"
   ]
  },
  {
   "cell_type": "code",
   "execution_count": 24,
   "id": "6b10f3dc",
   "metadata": {
    "execution": {
     "iopub.execute_input": "2024-05-24T15:56:52.607624Z",
     "iopub.status.busy": "2024-05-24T15:56:52.607021Z",
     "iopub.status.idle": "2024-05-24T15:56:52.940100Z",
     "shell.execute_reply": "2024-05-24T15:56:52.938719Z"
    },
    "papermill": {
     "duration": 0.363161,
     "end_time": "2024-05-24T15:56:52.944404",
     "exception": false,
     "start_time": "2024-05-24T15:56:52.581243",
     "status": "completed"
    },
    "tags": []
   },
   "outputs": [],
   "source": [
    "from sklearn.model_selection import train_test_split\n",
    "\n",
    "# Separation of features and target variables\n",
    "X_train = train_df_encoded.drop(columns=['PassengerId','Survived'])\n",
    "y_train = train_df_encoded['Survived']\n",
    "X_test = test_df_encoded.drop(columns=['PassengerId'])  \n",
    "\n",
    "# Separation into training and validation sets\n",
    "X_train_split, X_valid_split, y_train_split, y_valid_split = train_test_split(X_train, y_train, test_size=0.2, random_state=61)"
   ]
  },
  {
   "cell_type": "markdown",
   "id": "e47cca17",
   "metadata": {
    "papermill": {
     "duration": 0.026757,
     "end_time": "2024-05-24T15:56:53.000774",
     "exception": false,
     "start_time": "2024-05-24T15:56:52.974017",
     "status": "completed"
    },
    "tags": []
   },
   "source": [
    "## Training of the Model"
   ]
  },
  {
   "cell_type": "code",
   "execution_count": 25,
   "id": "7e8053ef",
   "metadata": {
    "execution": {
     "iopub.execute_input": "2024-05-24T15:56:53.053607Z",
     "iopub.status.busy": "2024-05-24T15:56:53.051999Z",
     "iopub.status.idle": "2024-05-24T15:56:53.657018Z",
     "shell.execute_reply": "2024-05-24T15:56:53.655651Z"
    },
    "papermill": {
     "duration": 0.634568,
     "end_time": "2024-05-24T15:56:53.659945",
     "exception": false,
     "start_time": "2024-05-24T15:56:53.025377",
     "status": "completed"
    },
    "tags": []
   },
   "outputs": [
    {
     "data": {
      "text/html": [
       "<style>#sk-container-id-1 {color: black;background-color: white;}#sk-container-id-1 pre{padding: 0;}#sk-container-id-1 div.sk-toggleable {background-color: white;}#sk-container-id-1 label.sk-toggleable__label {cursor: pointer;display: block;width: 100%;margin-bottom: 0;padding: 0.3em;box-sizing: border-box;text-align: center;}#sk-container-id-1 label.sk-toggleable__label-arrow:before {content: \"▸\";float: left;margin-right: 0.25em;color: #696969;}#sk-container-id-1 label.sk-toggleable__label-arrow:hover:before {color: black;}#sk-container-id-1 div.sk-estimator:hover label.sk-toggleable__label-arrow:before {color: black;}#sk-container-id-1 div.sk-toggleable__content {max-height: 0;max-width: 0;overflow: hidden;text-align: left;background-color: #f0f8ff;}#sk-container-id-1 div.sk-toggleable__content pre {margin: 0.2em;color: black;border-radius: 0.25em;background-color: #f0f8ff;}#sk-container-id-1 input.sk-toggleable__control:checked~div.sk-toggleable__content {max-height: 200px;max-width: 100%;overflow: auto;}#sk-container-id-1 input.sk-toggleable__control:checked~label.sk-toggleable__label-arrow:before {content: \"▾\";}#sk-container-id-1 div.sk-estimator input.sk-toggleable__control:checked~label.sk-toggleable__label {background-color: #d4ebff;}#sk-container-id-1 div.sk-label input.sk-toggleable__control:checked~label.sk-toggleable__label {background-color: #d4ebff;}#sk-container-id-1 input.sk-hidden--visually {border: 0;clip: rect(1px 1px 1px 1px);clip: rect(1px, 1px, 1px, 1px);height: 1px;margin: -1px;overflow: hidden;padding: 0;position: absolute;width: 1px;}#sk-container-id-1 div.sk-estimator {font-family: monospace;background-color: #f0f8ff;border: 1px dotted black;border-radius: 0.25em;box-sizing: border-box;margin-bottom: 0.5em;}#sk-container-id-1 div.sk-estimator:hover {background-color: #d4ebff;}#sk-container-id-1 div.sk-parallel-item::after {content: \"\";width: 100%;border-bottom: 1px solid gray;flex-grow: 1;}#sk-container-id-1 div.sk-label:hover label.sk-toggleable__label {background-color: #d4ebff;}#sk-container-id-1 div.sk-serial::before {content: \"\";position: absolute;border-left: 1px solid gray;box-sizing: border-box;top: 0;bottom: 0;left: 50%;z-index: 0;}#sk-container-id-1 div.sk-serial {display: flex;flex-direction: column;align-items: center;background-color: white;padding-right: 0.2em;padding-left: 0.2em;position: relative;}#sk-container-id-1 div.sk-item {position: relative;z-index: 1;}#sk-container-id-1 div.sk-parallel {display: flex;align-items: stretch;justify-content: center;background-color: white;position: relative;}#sk-container-id-1 div.sk-item::before, #sk-container-id-1 div.sk-parallel-item::before {content: \"\";position: absolute;border-left: 1px solid gray;box-sizing: border-box;top: 0;bottom: 0;left: 50%;z-index: -1;}#sk-container-id-1 div.sk-parallel-item {display: flex;flex-direction: column;z-index: 1;position: relative;background-color: white;}#sk-container-id-1 div.sk-parallel-item:first-child::after {align-self: flex-end;width: 50%;}#sk-container-id-1 div.sk-parallel-item:last-child::after {align-self: flex-start;width: 50%;}#sk-container-id-1 div.sk-parallel-item:only-child::after {width: 0;}#sk-container-id-1 div.sk-dashed-wrapped {border: 1px dashed gray;margin: 0 0.4em 0.5em 0.4em;box-sizing: border-box;padding-bottom: 0.4em;background-color: white;}#sk-container-id-1 div.sk-label label {font-family: monospace;font-weight: bold;display: inline-block;line-height: 1.2em;}#sk-container-id-1 div.sk-label-container {text-align: center;}#sk-container-id-1 div.sk-container {/* jupyter's `normalize.less` sets `[hidden] { display: none; }` but bootstrap.min.css set `[hidden] { display: none !important; }` so we also need the `!important` here to be able to override the default hidden behavior on the sphinx rendered scikit-learn.org. See: https://github.com/scikit-learn/scikit-learn/issues/21755 */display: inline-block !important;position: relative;}#sk-container-id-1 div.sk-text-repr-fallback {display: none;}</style><div id=\"sk-container-id-1\" class=\"sk-top-container\"><div class=\"sk-text-repr-fallback\"><pre>RandomForestClassifier(random_state=61)</pre><b>In a Jupyter environment, please rerun this cell to show the HTML representation or trust the notebook. <br />On GitHub, the HTML representation is unable to render, please try loading this page with nbviewer.org.</b></div><div class=\"sk-container\" hidden><div class=\"sk-item\"><div class=\"sk-estimator sk-toggleable\"><input class=\"sk-toggleable__control sk-hidden--visually\" id=\"sk-estimator-id-1\" type=\"checkbox\" checked><label for=\"sk-estimator-id-1\" class=\"sk-toggleable__label sk-toggleable__label-arrow\">RandomForestClassifier</label><div class=\"sk-toggleable__content\"><pre>RandomForestClassifier(random_state=61)</pre></div></div></div></div></div>"
      ],
      "text/plain": [
       "RandomForestClassifier(random_state=61)"
      ]
     },
     "execution_count": 25,
     "metadata": {},
     "output_type": "execute_result"
    }
   ],
   "source": [
    "from sklearn.ensemble import RandomForestClassifier\n",
    "from sklearn.metrics import accuracy_score\n",
    "\n",
    "# Creating a model\n",
    "model = RandomForestClassifier(n_estimators=100, random_state=61)\n",
    "\n",
    "# train the model\n",
    "model.fit(X_train_split, y_train_split)"
   ]
  },
  {
   "cell_type": "markdown",
   "id": "88ad1468",
   "metadata": {
    "papermill": {
     "duration": 0.023618,
     "end_time": "2024-05-24T15:56:53.708285",
     "exception": false,
     "start_time": "2024-05-24T15:56:53.684667",
     "status": "completed"
    },
    "tags": []
   },
   "source": [
    "## Evaluation of the Model"
   ]
  },
  {
   "cell_type": "code",
   "execution_count": 26,
   "id": "dfeee315",
   "metadata": {
    "execution": {
     "iopub.execute_input": "2024-05-24T15:56:53.761907Z",
     "iopub.status.busy": "2024-05-24T15:56:53.761408Z",
     "iopub.status.idle": "2024-05-24T15:56:53.783485Z",
     "shell.execute_reply": "2024-05-24T15:56:53.782058Z"
    },
    "papermill": {
     "duration": 0.052949,
     "end_time": "2024-05-24T15:56:53.786246",
     "exception": false,
     "start_time": "2024-05-24T15:56:53.733297",
     "status": "completed"
    },
    "tags": []
   },
   "outputs": [
    {
     "name": "stdout",
     "output_type": "stream",
     "text": [
      "Model Doğruluğu: 0.76\n"
     ]
    }
   ],
   "source": [
    "# Make predictions on the validation set\n",
    "y_valid_pred = model.predict(X_valid_split)\n",
    "\n",
    "# Calculating the model's accuracy\n",
    "accuracy = accuracy_score(y_valid_split, y_valid_pred)\n",
    "print(f'Model Doğruluğu: {accuracy:.2f}')"
   ]
  },
  {
   "cell_type": "markdown",
   "id": "33aa7ed5",
   "metadata": {
    "papermill": {
     "duration": 0.025145,
     "end_time": "2024-05-24T15:56:53.836117",
     "exception": false,
     "start_time": "2024-05-24T15:56:53.810972",
     "status": "completed"
    },
    "tags": []
   },
   "source": [
    "## Predicting and Preparing Results on a Test Set"
   ]
  },
  {
   "cell_type": "code",
   "execution_count": 27,
   "id": "77c694bd",
   "metadata": {
    "execution": {
     "iopub.execute_input": "2024-05-24T15:56:53.889135Z",
     "iopub.status.busy": "2024-05-24T15:56:53.888684Z",
     "iopub.status.idle": "2024-05-24T15:56:53.916922Z",
     "shell.execute_reply": "2024-05-24T15:56:53.916040Z"
    },
    "papermill": {
     "duration": 0.058738,
     "end_time": "2024-05-24T15:56:53.919769",
     "exception": false,
     "start_time": "2024-05-24T15:56:53.861031",
     "status": "completed"
    },
    "tags": []
   },
   "outputs": [
    {
     "name": "stdout",
     "output_type": "stream",
     "text": [
      "Results saved as \"submission.csv\" file. \n"
     ]
    }
   ],
   "source": [
    "# Make predictions on the test set\n",
    "y_test_pred = model.predict(X_test)\n",
    "\n",
    "#Prepare results as DataFrame\n",
    "submission = pd.DataFrame({\n",
    "    'PassengerId': test_df_encoded['PassengerId'],\n",
    "    'Survived': y_test_pred\n",
    "})\n",
    "\n",
    "# Saving results to CSV file\n",
    "submission.to_csv('submission.csv', index=False)\n",
    "print('Results saved as \"submission.csv\" file. ')"
   ]
  }
 ],
 "metadata": {
  "kaggle": {
   "accelerator": "none",
   "dataSources": [
    {
     "databundleVersionId": 26502,
     "sourceId": 3136,
     "sourceType": "competition"
    }
   ],
   "dockerImageVersionId": 30698,
   "isGpuEnabled": false,
   "isInternetEnabled": true,
   "language": "python",
   "sourceType": "notebook"
  },
  "kernelspec": {
   "display_name": "Python 3",
   "language": "python",
   "name": "python3"
  },
  "language_info": {
   "codemirror_mode": {
    "name": "ipython",
    "version": 3
   },
   "file_extension": ".py",
   "mimetype": "text/x-python",
   "name": "python",
   "nbconvert_exporter": "python",
   "pygments_lexer": "ipython3",
   "version": "3.10.13"
  },
  "papermill": {
   "default_parameters": {},
   "duration": 14.029108,
   "end_time": "2024-05-24T15:56:54.670440",
   "environment_variables": {},
   "exception": null,
   "input_path": "__notebook__.ipynb",
   "output_path": "__notebook__.ipynb",
   "parameters": {},
   "start_time": "2024-05-24T15:56:40.641332",
   "version": "2.5.0"
  }
 },
 "nbformat": 4,
 "nbformat_minor": 5
}
